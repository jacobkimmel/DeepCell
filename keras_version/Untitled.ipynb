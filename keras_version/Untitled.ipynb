{
 "cells": [
  {
   "cell_type": "code",
   "execution_count": null,
   "metadata": {},
   "outputs": [
    {
     "name": "stderr",
     "output_type": "stream",
     "text": [
      "/home/jacobk/src/DeepCell/keras_version/tifffile.py:156: UserWarning: failed to import the optional _tifffile C extension module.\n",
      "Loading of some compressed images will be slow.\n",
      "Tifffile.c can be obtained at http://www.lfd.uci.edu/~gohlke/\n",
      "  \"failed to import the optional _tifffile C extension module.\\n\"\n",
      "Using TensorFlow backend.\n"
     ]
    }
   ],
   "source": [
    "'''\n",
    "Make MuSC training data\n",
    "'''\n",
    "from __future__ import print_function\n",
    "from trainingData import *\n",
    "import os.path as osp\n",
    "import keras.backend as K\n",
    "direc_name = '/home/jacobk/lifeact_data/full_dataset/'\n",
    "\n",
    "K.backend('theano')\n",
    "\n",
    "\n",
    "feature_names = ['c1']\n",
    "channel_names = ['seg']\n",
    "window_x = 40\n",
    "window_y = 40\n",
    "max_direcs = 50\n",
    "max_training_examples = 10**6\n",
    "file_name_save = '/home/jacobk/src/DeepCell/trained_networks/20180116_musc_lifeact.npz'\n"
   ]
  },
  {
   "cell_type": "code",
   "execution_count": null,
   "metadata": {
    "collapsed": true
   },
   "outputs": [],
   "source": []
  }
 ],
 "metadata": {
  "kernelspec": {
   "display_name": "Python 3",
   "language": "python",
   "name": "python3"
  },
  "language_info": {
   "codemirror_mode": {
    "name": "ipython",
    "version": 3
   },
   "file_extension": ".py",
   "mimetype": "text/x-python",
   "name": "python",
   "nbconvert_exporter": "python",
   "pygments_lexer": "ipython3",
   "version": "3.6.2"
  }
 },
 "nbformat": 4,
 "nbformat_minor": 2
}
