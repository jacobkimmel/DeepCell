{
 "cells": [
  {
   "cell_type": "code",
   "execution_count": null,
   "metadata": {
    "collapsed": true,
    "deletable": true,
    "editable": true
   },
   "outputs": [],
   "source": [
    "'''\n",
    "Generate training data for use with @jkimmel's fork \n",
    "of @vanvalen's DeepCell\n",
    "\n",
    "DeepCell trains vanilla CNNs on many small 'receptive fields',\n",
    "each centered on a pixel of interest. The network is trained\n",
    "to predict the likely class ('feature') of the center pixel, \n",
    "based on the information in its surrounding neighborhood.\n",
    "\n",
    "To train the networks using Keras tools, we first need to build\n",
    "a numpy .npz archive of these receptive fields, paired with the \n",
    "ground truth class they belong to. This notebook outlines that \n",
    "process.\n",
    "\n",
    "To start, you'll need a set of raw images, paired with ground truth\n",
    "masks labeling the class of each pixel.\n",
    "A typical data set might be several images of cells, with ground truth\n",
    "masks labeling cell pixels as 1 and background pixels as 0. \n",
    "\n",
    "Filenames for raw images and masks should correspond, with the exception\n",
    "of a single string identifying the channel or feature the image indicates.\n",
    "\n",
    "Example directory of training images:\n",
    "\n",
    "    img_0_DIC.tif\n",
    "    img_0_feature0.tif\n",
    "    img_0_feature1.tif\n",
    "    img_1_DIC.tif\n",
    "    ...\n",
    "'''\n",
    "\n",
    "from __future__ import print_function, division # for python2 compatability\n",
    "from trainingData import *\n",
    "\n",
    "## Set some parameters describing the dataset\n",
    "\n",
    "# path to directory containing images\n",
    "# can also use seperate dirs for features/channels, just change paths in subsequent commands\n",
    "direc_name = '/path/to/image/directory'\n",
    "# strings in the filenames of binary masks describing different features\n",
    "feature_names = ['feature0', 'feature1'] \n",
    "# strings in the filenames of raw images taken on different channels\n",
    "channel_names = ['DIC']\n",
    "\n",
    "# size of the receptive field in X & Y, +/- from the center, minus 1\n",
    "# window_Dim = receptive_field_dim_size/2 - 1\n",
    "# i.e. window_x = 40 describes a receptive field of 81 in the X dimension\n",
    "#\n",
    "# DeepCell training networks are specific to the receptive field size\n",
    "# Unless you want to design your own networks, use receptive fields sized\n",
    "# 41x41, 61x61, or 81x81\n",
    "# Bigger fields generally increase accuracy, but take longer to train\n",
    "# and may decrease fine-grained spatial resolution\n",
    "window_x = 40\n",
    "window_y = 40 # 81x81 receptive field\n",
    "\n",
    "# Set a maximum number of images to derive training examples\n",
    "# Training data generation is memory intensive,\n",
    "# reduce this number if you run into memory issues\n",
    "max_direcs = 50 \n",
    "# Set a maximum number of receptive fields to train on, \n",
    "# with examples taken from the number of images specified above\n",
    "# ~1 million is good starting point\n",
    "max_training_examples = 10**6\n",
    "\n",
    "# Set a path to save the resulting .npz archive of training data\n",
    "file_name_save = '/path/to/save.npz'"
   ]
  },
  {
   "cell_type": "code",
   "execution_count": null,
   "metadata": {
    "collapsed": true,
    "deletable": true,
    "editable": true
   },
   "outputs": [],
   "source": [
    "'''\n",
    "Load raw images into a numpy array and perform preprocessing\n",
    "\n",
    "default preprocessing subtracts the median from each image and smooths\n",
    "with an averaging kernel\n",
    "\n",
    "See trainingData.py source for additional preprocessing options\n",
    "'''\n",
    "channels = load_channel_imgs(direc_name, channel_names, window_x, window_y, max_direcs)"
   ]
  },
  {
   "cell_type": "code",
   "execution_count": null,
   "metadata": {
    "collapsed": true,
    "deletable": true,
    "editable": true
   },
   "outputs": [],
   "source": [
    "'''\n",
    "Load feature masks into a numpy array\n",
    "'''\n",
    "feature_mask = load_feature_masks(direc_name, feature_names, window_x, window_y, max_direcs)"
   ]
  },
  {
   "cell_type": "code",
   "execution_count": null,
   "metadata": {
    "collapsed": true,
    "deletable": true,
    "editable": true
   },
   "outputs": [],
   "source": [
    "'''\n",
    "Determine which feature has the fewest available examples\n",
    "used for class balancing downstream\n",
    "'''\n",
    "min_num = determine_min_examples(feature_mask, window_x, window_y)"
   ]
  },
  {
   "cell_type": "code",
   "execution_count": null,
   "metadata": {
    "collapsed": true,
    "deletable": true,
    "editable": true
   },
   "outputs": [],
   "source": [
    "'''\n",
    "Generate a 4 x N feature matrix \n",
    "each row represents a different piece of information\n",
    "each col a different example pixel\n",
    "\n",
    "Layout:\n",
    "    rows -- row indices for pixels to train on.\n",
    "    cols -- col indices for pixels to train on.\n",
    "    batch -- batch indices for pixels to train on. Only neccessary if subdirectories\n",
    "                in the training directory are utilized.\n",
    "    labels -- ground truth class labels for pixels to train on.\n",
    "\n",
    "NOTE: This is memory intensive.\n",
    "'''\n",
    "\n",
    "feature_matrix = identify_training_pixels(feature_mask, min_num, window_x, window_y, max_training_examples)"
   ]
  },
  {
   "cell_type": "code",
   "execution_count": null,
   "metadata": {
    "collapsed": true,
    "deletable": true,
    "editable": true
   },
   "outputs": [],
   "source": [
    "'''\n",
    "Save the generated training data to a .npz archive\n",
    "'''\n",
    "save_training_data(file_name_save, channels, feature_matrix, window_x, window_y)"
   ]
  }
 ],
 "metadata": {
  "kernelspec": {
   "display_name": "Python 3",
   "language": "python",
   "name": "python3"
  },
  "language_info": {
   "codemirror_mode": {
    "name": "ipython",
    "version": 3
   },
   "file_extension": ".py",
   "mimetype": "text/x-python",
   "name": "python",
   "nbconvert_exporter": "python",
   "pygments_lexer": "ipython3",
   "version": "3.5.2"
  }
 },
 "nbformat": 4,
 "nbformat_minor": 2
}
