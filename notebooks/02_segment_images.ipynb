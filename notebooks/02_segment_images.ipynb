{
 "cells": [
  {
   "cell_type": "code",
   "execution_count": null,
   "metadata": {
    "collapsed": true
   },
   "outputs": [],
   "source": [
    "'''\n",
    "Segment images using a trained CNN \n",
    "with @jkimmel's fork of @vanvalen's DeepCell\n",
    "\n",
    "DeepCell transfers weights from vanilla CNNs trained on small receptive\n",
    "field sized patches to models employing atrous kernels to allow for\n",
    "segmentation of full sized images without patchwise classification.\n",
    "\n",
    "This notebook outlines how to transfer weights from a trained vanilla CNN\n",
    "to the corresponding atrous kernel network for segmentation.\n",
    "NOTE: segmentImages.py wraps this process in a CLI.\n",
    "'''\n",
    "\n",
    "import h5py\n",
    "import tifffile as tiff\n",
    "from keras.backend.common import _UID_PREFIXES\n",
    "import os\n",
    "import numpy as np\n",
    "import argparse\n",
    "from cnn_functions import nikon_getfiles, get_image, run_models_on_directory, get_image_sizes, dice_jaccard_indices\n",
    "\n",
    "# NOTE: The 'sparse' model with atrous kernels you employ for segmentation\n",
    "# must mirror the structure of the vanilla CNN layer-for-layer\n",
    "# The only difference should be the use of atrous kernels\n",
    "# In model zoo, atrous kernel networks are merely prefaced with 'sparse_'\n",
    "# for the corresponding vanilla CNN\n",
    "from model_zoo import sparse_bn_feature_net_81x81 as fnet"
   ]
  },
  {
   "cell_type": "code",
   "execution_count": null,
   "metadata": {
    "collapsed": true
   },
   "outputs": [],
   "source": [
    "# specify directories\n",
    "direc_name = '/path/to/images/for/segmentation/'\n",
    "seg_location = '/path/to/save/segmentation/outputs/'\n",
    "# specify channel and feature names\n",
    "channel_names = ['DIC']\n",
    "feature_names = ['feature0', 'feature1']\n",
    "# specify locations and prefixes of trained network weights\n",
    "trained_network_dir = '/path/to/trained/models/'\n",
    "# prefix of network weight filenames\n",
    "net_prefix = 'trained_network_' \n",
    "# number of trained networks to ensemble\n",
    "nb_networks = 1"
   ]
  },
  {
   "cell_type": "code",
   "execution_count": null,
   "metadata": {
    "collapsed": true
   },
   "outputs": [],
   "source": [
    "# set window sizes\n",
    "window_x = 40\n",
    "window_y = 40\n",
    "# set the image size\n",
    "sz = list(get_image_sizes(data_location, channel_names[0]))\n",
    "image_size_x = sz[0]\n",
    "image_size_y = sz[1]"
   ]
  },
  {
   "cell_type": "code",
   "execution_count": null,
   "metadata": {
    "collapsed": true
   },
   "outputs": [],
   "source": [
    "# create a list of model weight paths from all trained networks\n",
    "list_of_cyto_weights = []\n",
    "for j in range(nb_networks):\n",
    "    cyto_weights = os.path.join(trained_network_dir, net_prefix + str(j) + \".h5\")\n",
    "    list_of_cyto_weights.append(cyto_weights)"
   ]
  },
  {
   "cell_type": "code",
   "execution_count": null,
   "metadata": {
    "collapsed": true
   },
   "outputs": [],
   "source": [
    "# the 'split' parameter can be used to split\n",
    "# images that are too large to fit on the GPU all at once\n",
    "# into smaller pieces, then stitch them back together\n",
    "# options = {0 : no split, 1 : split into quarters, 2 : split to sixteenths}\n",
    "split = 0\n",
    "\n",
    "# run models\n",
    "predictions = run_models_on_directory(\n",
    "        data_location=data_location,\n",
    "        channel_names=channel_names,\n",
    "        output_location=seg_location,\n",
    "        model_fn = fnet,\n",
    "        list_of_weights = list_of_cyto_weights,\n",
    "        n_features = 2,\n",
    "        image_size_x = image_size_x,\n",
    "        image_size_y = image_size_y,\n",
    "        win_x = window_x,\n",
    "        win_y = window_y,\n",
    "        split = split)"
   ]
  }
 ],
 "metadata": {
  "kernelspec": {
   "display_name": "Python 3",
   "language": "python",
   "name": "python3"
  },
  "language_info": {
   "codemirror_mode": {
    "name": "ipython",
    "version": 3
   },
   "file_extension": ".py",
   "mimetype": "text/x-python",
   "name": "python",
   "nbconvert_exporter": "python",
   "pygments_lexer": "ipython3",
   "version": "3.5.2"
  }
 },
 "nbformat": 4,
 "nbformat_minor": 2
}
